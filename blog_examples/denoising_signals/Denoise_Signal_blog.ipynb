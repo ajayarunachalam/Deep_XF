{
  "nbformat": 4,
  "nbformat_minor": 0,
  "metadata": {
    "colab": {
      "name": "Denoise_Signal-blog.ipynb",
      "provenance": []
    },
    "kernelspec": {
      "name": "python3",
      "display_name": "Python 3"
    },
    "language_info": {
      "name": "python"
    }
  },
  "cells": [
    {
      "cell_type": "code",
      "metadata": {
        "colab": {
          "base_uri": "https://localhost:8080/"
        },
        "id": "mNinDMvsptGy",
        "outputId": "ef6cd323-7806-4ccb-a57b-5fd18f679fea"
      },
      "source": [
        "!pip install deep-xf"
      ],
      "execution_count": null,
      "outputs": [
        {
          "output_type": "stream",
          "name": "stdout",
          "text": [
            "Collecting deep-xf\n",
            "  Downloading deep_xf-0.0.5-py3-none-any.whl (35 kB)\n",
            "Requirement already satisfied: tqdm in /usr/local/lib/python3.7/dist-packages (from deep-xf) (4.62.3)\n",
            "Requirement already satisfied: torch in /usr/local/lib/python3.7/dist-packages (from deep-xf) (1.9.0+cu111)\n",
            "Requirement already satisfied: jupyter in /usr/local/lib/python3.7/dist-packages (from deep-xf) (1.0.0)\n",
            "Collecting py-ecg-detectors\n",
            "  Downloading py_ecg_detectors-1.1.0-py3-none-any.whl (23 kB)\n",
            "Requirement already satisfied: pandas in /usr/local/lib/python3.7/dist-packages (from deep-xf) (1.1.5)\n",
            "Collecting scikit-learn>=0.24.0\n",
            "  Downloading scikit_learn-1.0.1-cp37-cp37m-manylinux_2_12_x86_64.manylinux2010_x86_64.whl (23.2 MB)\n",
            "\u001b[K     |████████████████████████████████| 23.2 MB 1.8 MB/s \n",
            "\u001b[?25hCollecting statsmodels==0.12.2\n",
            "  Downloading statsmodels-0.12.2-cp37-cp37m-manylinux1_x86_64.whl (9.5 MB)\n",
            "\u001b[K     |████████████████████████████████| 9.5 MB 27.4 MB/s \n",
            "\u001b[?25hRequirement already satisfied: matplotlib in /usr/local/lib/python3.7/dist-packages (from deep-xf) (3.2.2)\n",
            "Collecting shap==0.39.0\n",
            "  Downloading shap-0.39.0.tar.gz (356 kB)\n",
            "\u001b[K     |████████████████████████████████| 356 kB 43.3 MB/s \n",
            "\u001b[?25hRequirement already satisfied: keras in /usr/local/lib/python3.7/dist-packages (from deep-xf) (2.6.0)\n",
            "Requirement already satisfied: pandas-profiling in /usr/local/lib/python3.7/dist-packages (from deep-xf) (1.4.1)\n",
            "Requirement already satisfied: ipython in /usr/local/lib/python3.7/dist-packages (from deep-xf) (5.5.0)\n",
            "Collecting seaborn==0.9.0\n",
            "  Downloading seaborn-0.9.0-py3-none-any.whl (208 kB)\n",
            "\u001b[K     |████████████████████████████████| 208 kB 45.3 MB/s \n",
            "\u001b[?25hRequirement already satisfied: scipy>=0.14.0 in /usr/local/lib/python3.7/dist-packages (from seaborn==0.9.0->deep-xf) (1.4.1)\n",
            "Requirement already satisfied: numpy>=1.9.3 in /usr/local/lib/python3.7/dist-packages (from seaborn==0.9.0->deep-xf) (1.19.5)\n",
            "Collecting slicer==0.0.7\n",
            "  Downloading slicer-0.0.7-py3-none-any.whl (14 kB)\n",
            "Requirement already satisfied: numba in /usr/local/lib/python3.7/dist-packages (from shap==0.39.0->deep-xf) (0.51.2)\n",
            "Requirement already satisfied: cloudpickle in /usr/local/lib/python3.7/dist-packages (from shap==0.39.0->deep-xf) (1.3.0)\n",
            "Requirement already satisfied: patsy>=0.5 in /usr/local/lib/python3.7/dist-packages (from statsmodels==0.12.2->deep-xf) (0.5.2)\n",
            "Requirement already satisfied: pyparsing!=2.0.4,!=2.1.2,!=2.1.6,>=2.0.1 in /usr/local/lib/python3.7/dist-packages (from matplotlib->deep-xf) (2.4.7)\n",
            "Requirement already satisfied: cycler>=0.10 in /usr/local/lib/python3.7/dist-packages (from matplotlib->deep-xf) (0.10.0)\n",
            "Requirement already satisfied: kiwisolver>=1.0.1 in /usr/local/lib/python3.7/dist-packages (from matplotlib->deep-xf) (1.3.2)\n",
            "Requirement already satisfied: python-dateutil>=2.1 in /usr/local/lib/python3.7/dist-packages (from matplotlib->deep-xf) (2.8.2)\n",
            "Requirement already satisfied: six in /usr/local/lib/python3.7/dist-packages (from cycler>=0.10->matplotlib->deep-xf) (1.15.0)\n",
            "Requirement already satisfied: pytz>=2017.2 in /usr/local/lib/python3.7/dist-packages (from pandas->deep-xf) (2018.9)\n",
            "Requirement already satisfied: joblib>=0.11 in /usr/local/lib/python3.7/dist-packages (from scikit-learn>=0.24.0->deep-xf) (1.0.1)\n",
            "Collecting threadpoolctl>=2.0.0\n",
            "  Downloading threadpoolctl-3.0.0-py3-none-any.whl (14 kB)\n",
            "Requirement already satisfied: pickleshare in /usr/local/lib/python3.7/dist-packages (from ipython->deep-xf) (0.7.5)\n",
            "Requirement already satisfied: pygments in /usr/local/lib/python3.7/dist-packages (from ipython->deep-xf) (2.6.1)\n",
            "Requirement already satisfied: simplegeneric>0.8 in /usr/local/lib/python3.7/dist-packages (from ipython->deep-xf) (0.8.1)\n",
            "Requirement already satisfied: pexpect in /usr/local/lib/python3.7/dist-packages (from ipython->deep-xf) (4.8.0)\n",
            "Requirement already satisfied: setuptools>=18.5 in /usr/local/lib/python3.7/dist-packages (from ipython->deep-xf) (57.4.0)\n",
            "Requirement already satisfied: decorator in /usr/local/lib/python3.7/dist-packages (from ipython->deep-xf) (4.4.2)\n",
            "Requirement already satisfied: prompt-toolkit<2.0.0,>=1.0.4 in /usr/local/lib/python3.7/dist-packages (from ipython->deep-xf) (1.0.18)\n",
            "Requirement already satisfied: traitlets>=4.2 in /usr/local/lib/python3.7/dist-packages (from ipython->deep-xf) (5.1.0)\n",
            "Requirement already satisfied: wcwidth in /usr/local/lib/python3.7/dist-packages (from prompt-toolkit<2.0.0,>=1.0.4->ipython->deep-xf) (0.2.5)\n",
            "Requirement already satisfied: jupyter-console in /usr/local/lib/python3.7/dist-packages (from jupyter->deep-xf) (5.2.0)\n",
            "Requirement already satisfied: ipykernel in /usr/local/lib/python3.7/dist-packages (from jupyter->deep-xf) (4.10.1)\n",
            "Requirement already satisfied: ipywidgets in /usr/local/lib/python3.7/dist-packages (from jupyter->deep-xf) (7.6.5)\n",
            "Requirement already satisfied: nbconvert in /usr/local/lib/python3.7/dist-packages (from jupyter->deep-xf) (5.6.1)\n",
            "Requirement already satisfied: notebook in /usr/local/lib/python3.7/dist-packages (from jupyter->deep-xf) (5.3.1)\n",
            "Requirement already satisfied: qtconsole in /usr/local/lib/python3.7/dist-packages (from jupyter->deep-xf) (5.1.1)\n",
            "Requirement already satisfied: tornado>=4.0 in /usr/local/lib/python3.7/dist-packages (from ipykernel->jupyter->deep-xf) (5.1.1)\n",
            "Requirement already satisfied: jupyter-client in /usr/local/lib/python3.7/dist-packages (from ipykernel->jupyter->deep-xf) (5.3.5)\n",
            "Requirement already satisfied: ipython-genutils~=0.2.0 in /usr/local/lib/python3.7/dist-packages (from ipywidgets->jupyter->deep-xf) (0.2.0)\n",
            "Requirement already satisfied: jupyterlab-widgets>=1.0.0 in /usr/local/lib/python3.7/dist-packages (from ipywidgets->jupyter->deep-xf) (1.0.2)\n",
            "Requirement already satisfied: nbformat>=4.2.0 in /usr/local/lib/python3.7/dist-packages (from ipywidgets->jupyter->deep-xf) (5.1.3)\n",
            "Requirement already satisfied: widgetsnbextension~=3.5.0 in /usr/local/lib/python3.7/dist-packages (from ipywidgets->jupyter->deep-xf) (3.5.1)\n",
            "Requirement already satisfied: jsonschema!=2.5.0,>=2.4 in /usr/local/lib/python3.7/dist-packages (from nbformat>=4.2.0->ipywidgets->jupyter->deep-xf) (2.6.0)\n",
            "Requirement already satisfied: jupyter-core in /usr/local/lib/python3.7/dist-packages (from nbformat>=4.2.0->ipywidgets->jupyter->deep-xf) (4.8.1)\n",
            "Requirement already satisfied: jinja2 in /usr/local/lib/python3.7/dist-packages (from notebook->jupyter->deep-xf) (2.11.3)\n",
            "Requirement already satisfied: Send2Trash in /usr/local/lib/python3.7/dist-packages (from notebook->jupyter->deep-xf) (1.8.0)\n",
            "Requirement already satisfied: terminado>=0.8.1 in /usr/local/lib/python3.7/dist-packages (from notebook->jupyter->deep-xf) (0.12.1)\n",
            "Requirement already satisfied: pyzmq>=13 in /usr/local/lib/python3.7/dist-packages (from jupyter-client->ipykernel->jupyter->deep-xf) (22.3.0)\n",
            "Requirement already satisfied: ptyprocess in /usr/local/lib/python3.7/dist-packages (from terminado>=0.8.1->notebook->jupyter->deep-xf) (0.7.0)\n",
            "Requirement already satisfied: MarkupSafe>=0.23 in /usr/local/lib/python3.7/dist-packages (from jinja2->notebook->jupyter->deep-xf) (2.0.1)\n",
            "Requirement already satisfied: defusedxml in /usr/local/lib/python3.7/dist-packages (from nbconvert->jupyter->deep-xf) (0.7.1)\n",
            "Requirement already satisfied: entrypoints>=0.2.2 in /usr/local/lib/python3.7/dist-packages (from nbconvert->jupyter->deep-xf) (0.3)\n",
            "Requirement already satisfied: pandocfilters>=1.4.1 in /usr/local/lib/python3.7/dist-packages (from nbconvert->jupyter->deep-xf) (1.5.0)\n",
            "Requirement already satisfied: mistune<2,>=0.8.1 in /usr/local/lib/python3.7/dist-packages (from nbconvert->jupyter->deep-xf) (0.8.4)\n",
            "Requirement already satisfied: testpath in /usr/local/lib/python3.7/dist-packages (from nbconvert->jupyter->deep-xf) (0.5.0)\n",
            "Requirement already satisfied: bleach in /usr/local/lib/python3.7/dist-packages (from nbconvert->jupyter->deep-xf) (4.1.0)\n",
            "Requirement already satisfied: webencodings in /usr/local/lib/python3.7/dist-packages (from bleach->nbconvert->jupyter->deep-xf) (0.5.1)\n",
            "Requirement already satisfied: packaging in /usr/local/lib/python3.7/dist-packages (from bleach->nbconvert->jupyter->deep-xf) (21.0)\n",
            "Requirement already satisfied: llvmlite<0.35,>=0.34.0.dev0 in /usr/local/lib/python3.7/dist-packages (from numba->shap==0.39.0->deep-xf) (0.34.0)\n",
            "Collecting gatspy\n",
            "  Downloading gatspy-0.3.tar.gz (554 kB)\n",
            "\u001b[K     |████████████████████████████████| 554 kB 44.8 MB/s \n",
            "\u001b[?25hRequirement already satisfied: pywavelets in /usr/local/lib/python3.7/dist-packages (from py-ecg-detectors->deep-xf) (1.1.1)\n",
            "Requirement already satisfied: qtpy in /usr/local/lib/python3.7/dist-packages (from qtconsole->jupyter->deep-xf) (1.11.2)\n",
            "Requirement already satisfied: typing-extensions in /usr/local/lib/python3.7/dist-packages (from torch->deep-xf) (3.7.4.3)\n",
            "Building wheels for collected packages: shap, gatspy\n",
            "  Building wheel for shap (setup.py) ... \u001b[?25l\u001b[?25hdone\n",
            "  Created wheel for shap: filename=shap-0.39.0-cp37-cp37m-linux_x86_64.whl size=491636 sha256=d3aff8d4849ce88c7a605b4cff1371752c33e613bc7264b17c85cb5d67161b58\n",
            "  Stored in directory: /root/.cache/pip/wheels/ca/25/8f/6ae5df62c32651cd719e972e738a8aaa4a87414c4d2b14c9c0\n",
            "  Building wheel for gatspy (setup.py) ... \u001b[?25l\u001b[?25hdone\n",
            "  Created wheel for gatspy: filename=gatspy-0.3-py3-none-any.whl size=43819 sha256=8256f0619c830947323a8fd8b4d231a316067f52238ed499ac8e4f47f4e31c37\n",
            "  Stored in directory: /root/.cache/pip/wheels/1f/c1/4c/8de278f816259b4f67e2356c0bda260a593375661e400bf31f\n",
            "Successfully built shap gatspy\n",
            "Installing collected packages: threadpoolctl, slicer, scikit-learn, gatspy, statsmodels, shap, seaborn, py-ecg-detectors, deep-xf\n",
            "  Attempting uninstall: scikit-learn\n",
            "    Found existing installation: scikit-learn 0.22.2.post1\n",
            "    Uninstalling scikit-learn-0.22.2.post1:\n",
            "      Successfully uninstalled scikit-learn-0.22.2.post1\n",
            "  Attempting uninstall: statsmodels\n",
            "    Found existing installation: statsmodels 0.10.2\n",
            "    Uninstalling statsmodels-0.10.2:\n",
            "      Successfully uninstalled statsmodels-0.10.2\n",
            "  Attempting uninstall: seaborn\n",
            "    Found existing installation: seaborn 0.11.2\n",
            "    Uninstalling seaborn-0.11.2:\n",
            "      Successfully uninstalled seaborn-0.11.2\n",
            "Successfully installed deep-xf-0.0.5 gatspy-0.3 py-ecg-detectors-1.1.0 scikit-learn-1.0.1 seaborn-0.9.0 shap-0.39.0 slicer-0.0.7 statsmodels-0.12.2 threadpoolctl-3.0.0\n"
          ]
        }
      ]
    },
    {
      "cell_type": "markdown",
      "metadata": {
        "id": "LFN65HWVs3DM"
      },
      "source": [
        "\"\"\"\n",
        "@author: Ajay\n",
        "@Date: 30/10/2021\n",
        "\"\"\""
      ]
    },
    {
      "cell_type": "markdown",
      "metadata": {
        "id": "O131wnCws849"
      },
      "source": [
        "\"\"\"\n",
        "# Proof-Of-Concept: Denoising ECGs signals recored from sports jacketwear events\n",
        "\"\"\""
      ]
    },
    {
      "cell_type": "code",
      "metadata": {
        "id": "W8QxtIZztrvb",
        "colab": {
          "base_uri": "https://localhost:8080/"
        },
        "outputId": "9913f8df-2f85-42e1-9b4d-39c6070bca11"
      },
      "source": [
        "from deep_xf.denoise import *"
      ],
      "execution_count": null,
      "outputs": [
        {
          "output_type": "stream",
          "name": "stdout",
          "text": [
            "Imported DeepXF version:0.0.5. Example call by using:\n",
            "\n",
            "******************   SET FORECAST MODEL/BASE CONFIGURATIONS   ********************\n",
            "\n",
            "# select algorithms, scaler, etc.\n",
            "select_model, select_user_path, select_scaler, forecast_window = Forecast.set_model_config(select_model='rnn', select_user_path='./forecast_folder_path/', select_scaler='minmax', forecast_window=1)\n",
            "\n",
            "----------------------------------------------------------------------------------\n",
            "\n",
            "# set variables\n",
            "ts, fc = Forecast.set_variable(ts='Datetime', fc='PJME_MW')\n",
            "\n",
            "# get variables\n",
            "model_df, orig_df = Helper.get_variable(df, ts, fc)\n",
            "\n",
            "----------------------------------------------------------------------------------\n",
            "\n",
            "# set hyperparameters\n",
            "hidden_dim, layer_dim, batch_size, dropout, n_epochs, learning_rate, weight_decay = Forecast.hyperparameter_config(hidden_dim=64,layer_dim = 3, batch_size=64, dropout = 0.2, n_epochs = 30, learning_rate = 1e-3, weight_decay = 1e-6)\n",
            "\n",
            "----------------------------------------------------------------------------------\n",
            "\n",
            "*****************   Calling DEEP LEARNING BASED FORECASTING   *********************\n",
            "\n",
            "# train selected deep learning model\n",
            "opt, scaler = Forecast.train(df=df_full_features, target_col='value', split_ratio=0.2, select_model=select_model, select_scaler=select_scaler, forecast_window=forecast_window, batch_size=batch_size, hidden_dim=hidden_dim, layer_dim=layer_dim,dropout=dropout, n_epochs=n_epochs, learning_rate=learning_rate, weight_decay=weight_decay)\n",
            "\n",
            "----------------------------------------------------------------------------------\n",
            "\n",
            "# forecast for the user provided window\n",
            "forecasted_data, ff_full_features, ff_full_features_ = Forecast.forecast(model_df, ts, fc, opt, scaler, period=25, fq='1h', select_scaler=select_scaler,)\n",
            "\n",
            "---------------------------------------------------------------------------------\n",
            "\n",
            "# model interpretation\n",
            "Helper.explainable_forecast(df_full_features, ff_full_features_, fc, specific_prediction_sample_to_explain=df.shape[0]+2, input_label_index_value=0, num_labels=1)\n",
            "\n",
            "\n",
            "******************   DYNAMIC FACTOR MODEL BASED NOWCASTING   *********************\n",
            "\n",
            "# select algorithms, scaler, etc.\n",
            "select_model, select_user_path, select_scaler, forecast_window = Forecast.set_model_config(select_model='em', select_user_path='./forecast_folder_path/', select_scaler='minmax', forecast_window=5)\n",
            "\n",
            "----------------------------------------------------------------------------------\n",
            "\n",
            "# train nowcasting model with EM-algorithm\n",
            "nowcast_full_data, nowcast_pred_data = EMModel.nowcast(df_full_features, ts, fc, period=5, fq='1h', forecast_window=forecast_window, select_model=select_model)\n",
            "\n",
            "----------------------------------------------------------------------------------\n",
            "\n",
            "# get interpretable results\n",
            "EMModel.explainable_nowcast(df_full_features, nowcast_pred_data, fc, specific_prediction_sample_to_explain=df.shape[0]+2, input_label_index_value=0, num_labels=1)\n",
            "\n",
            "***********************   DENOISING TIMESERIES ECG SIGNALS   **********************\n",
            "\n",
            "# set thresholds\n",
            "fs, order, cutoff_high, cutoff_low, powerline, nyq = Denoise.set_parameters(fs = 500, order = 5, cutoff_high = 0.5, cutoff_low = 2, powerline = 60)\n",
            "\n",
            "# filter noise and save output\n",
            "Denoise.plot_and_write(ecg_signal_data, featurecol_index=2, fs=fs, cutoff_high=cutoff_high, cutoff_low=cutoff_low, nyq = nyq, powerline=powerline, order=order)\n",
            "\n",
            "\n",
            "***********************   TIMESERIES ECG SIGNAL SIMILARITY   **********************\n",
            "\n",
            "# configure, and train siamese neural network\n",
            "sm = Siamese.Siamese_Model(5) # 5 - # number of features\n",
            "sm.compile(loss='mse', optimizer='adam', metrics=['mse', 'mae', 'mape', 'cosine'])\n",
            "score = sm(inputs=[np.array(activity_input_sequence_1), np.array(activity_input_sequence_2)]) # signal similarity scores\n",
            "\n",
            "\n"
          ]
        }
      ]
    },
    {
      "cell_type": "code",
      "metadata": {
        "id": "lkN17_6IsvC9"
      },
      "source": [
        "ecg_signal_data = pd.read_csv('https://raw.githubusercontent.com/ajayarunachalam/Deep_XF/master/processed_data_ecg/processed_sitting_data.csv', skiprows=0)"
      ],
      "execution_count": null,
      "outputs": []
    },
    {
      "cell_type": "code",
      "metadata": {
        "colab": {
          "base_uri": "https://localhost:8080/"
        },
        "id": "qNQor8X9toDd",
        "outputId": "93665e1b-0d73-480b-8b23-6e45db595419"
      },
      "source": [
        "ecg_signal_data.shape"
      ],
      "execution_count": null,
      "outputs": [
        {
          "output_type": "execute_result",
          "data": {
            "text/plain": [
              "(30000, 7)"
            ]
          },
          "metadata": {},
          "execution_count": 4
        }
      ]
    },
    {
      "cell_type": "code",
      "metadata": {
        "colab": {
          "base_uri": "https://localhost:8080/",
          "height": 111
        },
        "id": "K3SdUYJAuBPL",
        "outputId": "0777d47a-c11b-4c7d-98a4-b2fbe4377f3f"
      },
      "source": [
        "ecg_signal_data.head(2)"
      ],
      "execution_count": null,
      "outputs": [
        {
          "output_type": "execute_result",
          "data": {
            "text/html": [
              "<div>\n",
              "<style scoped>\n",
              "    .dataframe tbody tr th:only-of-type {\n",
              "        vertical-align: middle;\n",
              "    }\n",
              "\n",
              "    .dataframe tbody tr th {\n",
              "        vertical-align: top;\n",
              "    }\n",
              "\n",
              "    .dataframe thead th {\n",
              "        text-align: right;\n",
              "    }\n",
              "</style>\n",
              "<table border=\"1\" class=\"dataframe\">\n",
              "  <thead>\n",
              "    <tr style=\"text-align: right;\">\n",
              "      <th></th>\n",
              "      <th>Date</th>\n",
              "      <th>Time</th>\n",
              "      <th>ecg1</th>\n",
              "      <th>ecg2</th>\n",
              "      <th>ecg3</th>\n",
              "      <th>ecg4</th>\n",
              "      <th>ecg5</th>\n",
              "    </tr>\n",
              "  </thead>\n",
              "  <tbody>\n",
              "    <tr>\n",
              "      <th>0</th>\n",
              "      <td>2021-04-07</td>\n",
              "      <td>16:20:12.136000</td>\n",
              "      <td>-0.000101</td>\n",
              "      <td>-0.000105</td>\n",
              "      <td>0.000075</td>\n",
              "      <td>0.000179</td>\n",
              "      <td>-0.000045</td>\n",
              "    </tr>\n",
              "    <tr>\n",
              "      <th>1</th>\n",
              "      <td>2021-04-07</td>\n",
              "      <td>16:20:12.138000</td>\n",
              "      <td>-0.000003</td>\n",
              "      <td>-0.000160</td>\n",
              "      <td>0.000104</td>\n",
              "      <td>0.000228</td>\n",
              "      <td>-0.000144</td>\n",
              "    </tr>\n",
              "  </tbody>\n",
              "</table>\n",
              "</div>"
            ],
            "text/plain": [
              "         Date             Time      ecg1  ...      ecg3      ecg4      ecg5\n",
              "0  2021-04-07  16:20:12.136000 -0.000101  ...  0.000075  0.000179 -0.000045\n",
              "1  2021-04-07  16:20:12.138000 -0.000003  ...  0.000104  0.000228 -0.000144\n",
              "\n",
              "[2 rows x 7 columns]"
            ]
          },
          "metadata": {},
          "execution_count": 5
        }
      ]
    },
    {
      "cell_type": "code",
      "metadata": {
        "colab": {
          "base_uri": "https://localhost:8080/"
        },
        "id": "skqeyCvPK0cZ",
        "outputId": "c2ea675e-8df9-4dd6-9a70-901fea6289ff"
      },
      "source": [
        "fs, order, cutoff_high, cutoff_low, powerline, nyq = Denoise.set_parameters(fs = 500, order = 5, cutoff_high = 0.5, cutoff_low = 2, powerline = 60)"
      ],
      "execution_count": null,
      "outputs": [
        {
          "output_type": "stream",
          "name": "stdout",
          "text": [
            "fs = 500\n",
            "order = 5\n",
            "cutoff_high = 0.5\n",
            "cutoff_low = 2\n",
            "powerline = 60\n"
          ]
        }
      ]
    },
    {
      "cell_type": "code",
      "metadata": {
        "id": "ONmbmSeCuCZo"
      },
      "source": [
        "# remove noise with ensembling of filters"
      ],
      "execution_count": null,
      "outputs": []
    },
    {
      "cell_type": "code",
      "metadata": {
        "colab": {
          "base_uri": "https://localhost:8080/",
          "height": 689
        },
        "id": "WstZ7Y6_uTxv",
        "outputId": "41bf930e-e07e-4216-a64b-fa3df290acfe"
      },
      "source": [
        "Denoise.plot_and_write(ecg_signal_data, featurecol_index=2, fs=fs, cutoff_high=cutoff_high, cutoff_low=cutoff_low, nyq = nyq, powerline=powerline, order=order)"
      ],
      "execution_count": null,
      "outputs": [
        {
          "output_type": "display_data",
          "data": {
            "image/png": "[encoded data removed]",
            "text/plain": [
              "<Figure size 792x288 with 2 Axes>"
            ]
          },
          "metadata": {}
        },
        {
          "output_type": "execute_result",
          "data": {
            "text/html": [
              "<div>\n",
              "<style scoped>\n",
              "    .dataframe tbody tr th:only-of-type {\n",
              "        vertical-align: middle;\n",
              "    }\n",
              "\n",
              "    .dataframe tbody tr th {\n",
              "        vertical-align: top;\n",
              "    }\n",
              "\n",
              "    .dataframe thead th {\n",
              "        text-align: right;\n",
              "    }\n",
              "</style>\n",
              "<table border=\"1\" class=\"dataframe\">\n",
              "  <thead>\n",
              "    <tr style=\"text-align: right;\">\n",
              "      <th></th>\n",
              "      <th>Date</th>\n",
              "      <th>Time</th>\n",
              "      <th>ecg1</th>\n",
              "      <th>ecg2</th>\n",
              "      <th>ecg3</th>\n",
              "      <th>ecg4</th>\n",
              "      <th>ecg5</th>\n",
              "    </tr>\n",
              "  </thead>\n",
              "  <tbody>\n",
              "    <tr>\n",
              "      <th>0</th>\n",
              "      <td>2021-04-07</td>\n",
              "      <td>16:20:12.136000</td>\n",
              "      <td>-2.969501e-14</td>\n",
              "      <td>-3.241481e-13</td>\n",
              "      <td>-1.728018e-12</td>\n",
              "      <td>-6.065765e-12</td>\n",
              "      <td>-1.601680e-11</td>\n",
              "    </tr>\n",
              "    <tr>\n",
              "      <th>1</th>\n",
              "      <td>2021-04-07</td>\n",
              "      <td>16:20:12.138000</td>\n",
              "      <td>-8.499545e-16</td>\n",
              "      <td>-5.554848e-14</td>\n",
              "      <td>-4.767371e-13</td>\n",
              "      <td>-2.066522e-12</td>\n",
              "      <td>-5.939035e-12</td>\n",
              "    </tr>\n",
              "    <tr>\n",
              "      <th>2</th>\n",
              "      <td>2021-04-07</td>\n",
              "      <td>16:20:12.140000</td>\n",
              "      <td>-1.053786e-14</td>\n",
              "      <td>-1.611588e-13</td>\n",
              "      <td>-1.049425e-12</td>\n",
              "      <td>-4.155571e-12</td>\n",
              "      <td>-1.179033e-11</td>\n",
              "    </tr>\n",
              "    <tr>\n",
              "      <th>3</th>\n",
              "      <td>2021-04-07</td>\n",
              "      <td>16:20:12.142000</td>\n",
              "      <td>2.876824e-14</td>\n",
              "      <td>2.082946e-13</td>\n",
              "      <td>6.777858e-13</td>\n",
              "      <td>1.325488e-12</td>\n",
              "      <td>1.750018e-12</td>\n",
              "    </tr>\n",
              "    <tr>\n",
              "      <th>4</th>\n",
              "      <td>2021-04-07</td>\n",
              "      <td>16:20:12.144000</td>\n",
              "      <td>4.329652e-14</td>\n",
              "      <td>3.390716e-13</td>\n",
              "      <td>1.256797e-12</td>\n",
              "      <td>3.049395e-12</td>\n",
              "      <td>5.713758e-12</td>\n",
              "    </tr>\n",
              "    <tr>\n",
              "      <th>...</th>\n",
              "      <td>...</td>\n",
              "      <td>...</td>\n",
              "      <td>...</td>\n",
              "      <td>...</td>\n",
              "      <td>...</td>\n",
              "      <td>...</td>\n",
              "      <td>...</td>\n",
              "    </tr>\n",
              "    <tr>\n",
              "      <th>29995</th>\n",
              "      <td>2021-04-07</td>\n",
              "      <td>16:21:12.474000</td>\n",
              "      <td>8.968817e-16</td>\n",
              "      <td>2.136266e-15</td>\n",
              "      <td>-2.629700e-14</td>\n",
              "      <td>-2.181268e-13</td>\n",
              "      <td>-9.091869e-13</td>\n",
              "    </tr>\n",
              "    <tr>\n",
              "      <th>29996</th>\n",
              "      <td>2021-04-07</td>\n",
              "      <td>16:21:12.476000</td>\n",
              "      <td>1.306427e-14</td>\n",
              "      <td>1.204183e-13</td>\n",
              "      <td>5.432755e-13</td>\n",
              "      <td>1.627322e-12</td>\n",
              "      <td>3.693566e-12</td>\n",
              "    </tr>\n",
              "    <tr>\n",
              "      <th>29997</th>\n",
              "      <td>2021-04-07</td>\n",
              "      <td>16:21:12.478000</td>\n",
              "      <td>1.338055e-14</td>\n",
              "      <td>1.231649e-13</td>\n",
              "      <td>5.545122e-13</td>\n",
              "      <td>1.655788e-12</td>\n",
              "      <td>3.741431e-12</td>\n",
              "    </tr>\n",
              "    <tr>\n",
              "      <th>29998</th>\n",
              "      <td>2021-04-07</td>\n",
              "      <td>16:21:12.480000</td>\n",
              "      <td>7.411542e-16</td>\n",
              "      <td>-8.031105e-16</td>\n",
              "      <td>-4.813862e-14</td>\n",
              "      <td>-3.150149e-13</td>\n",
              "      <td>-1.215306e-12</td>\n",
              "    </tr>\n",
              "    <tr>\n",
              "      <th>29999</th>\n",
              "      <td>2021-04-07</td>\n",
              "      <td>16:21:12.482000</td>\n",
              "      <td>-2.367745e-14</td>\n",
              "      <td>-2.373321e-13</td>\n",
              "      <td>-1.180091e-12</td>\n",
              "      <td>-3.951729e-12</td>\n",
              "      <td>-1.019676e-11</td>\n",
              "    </tr>\n",
              "  </tbody>\n",
              "</table>\n",
              "<p>30000 rows × 7 columns</p>\n",
              "</div>"
            ],
            "text/plain": [
              "             Date             Time  ...          ecg4          ecg5\n",
              "0      2021-04-07  16:20:12.136000  ... -6.065765e-12 -1.601680e-11\n",
              "1      2021-04-07  16:20:12.138000  ... -2.066522e-12 -5.939035e-12\n",
              "2      2021-04-07  16:20:12.140000  ... -4.155571e-12 -1.179033e-11\n",
              "3      2021-04-07  16:20:12.142000  ...  1.325488e-12  1.750018e-12\n",
              "4      2021-04-07  16:20:12.144000  ...  3.049395e-12  5.713758e-12\n",
              "...           ...              ...  ...           ...           ...\n",
              "29995  2021-04-07  16:21:12.474000  ... -2.181268e-13 -9.091869e-13\n",
              "29996  2021-04-07  16:21:12.476000  ...  1.627322e-12  3.693566e-12\n",
              "29997  2021-04-07  16:21:12.478000  ...  1.655788e-12  3.741431e-12\n",
              "29998  2021-04-07  16:21:12.480000  ... -3.150149e-13 -1.215306e-12\n",
              "29999  2021-04-07  16:21:12.482000  ... -3.951729e-12 -1.019676e-11\n",
              "\n",
              "[30000 rows x 7 columns]"
            ]
          },
          "metadata": {},
          "execution_count": 7
        }
      ]
    }
  ]
}